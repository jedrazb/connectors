{
 "cells": [
  {
   "cell_type": "markdown",
   "id": "a42f5ad1-8d73-43db-a4b7-02e38cc064ec",
   "metadata": {},
   "source": [
    "## Demo of connectors as a pip package!"
   ]
  },
  {
   "cell_type": "markdown",
   "id": "b04b0484-454e-42d5-ab19-512d695e09bf",
   "metadata": {},
   "source": [
    "User would need to install our package to use connectors for GenAI flows (commented out since it's not published):"
   ]
  },
  {
   "cell_type": "code",
   "execution_count": 1,
   "id": "2beb6c6b-79ee-4204-be82-68d178669991",
   "metadata": {},
   "outputs": [],
   "source": [
    "# % pip install elastic_connectors \n",
    "from connectors.loader.loader import GoogleDriveLoader, SharepointOnlineLoader, MongoDBLoader"
   ]
  },
  {
   "cell_type": "code",
   "execution_count": 3,
   "id": "f2aa5867-4e17-426c-bd03-c5bfd2c97704",
   "metadata": {},
   "outputs": [],
   "source": [
    "sharepoint_loader = SharepointOnlineLoader(\n",
    "  tenant_id=\"...\", \n",
    "  tenant_name=\"enterprisesearch\",\n",
    "  client_id=\"...\",\n",
    "  secret_value=\"...\",\n",
    "  site_collections=\"*\"\n",
    "  )"
   ]
  },
  {
   "cell_type": "code",
   "execution_count": null,
   "id": "d4917ccb-7a28-4b37-a311-2c6ed4608431",
   "metadata": {},
   "outputs": [],
   "source": [
    "sharepoint_docs = sharepoint_loader.load()"
   ]
  },
  {
   "cell_type": "code",
   "execution_count": 5,
   "id": "d244b2f4-d8d5-420d-bc11-6bd247b5781d",
   "metadata": {},
   "outputs": [
    {
     "data": {
      "text/plain": [
       "11133"
      ]
     },
     "execution_count": 5,
     "metadata": {},
     "output_type": "execute_result"
    }
   ],
   "source": [
    "len(sharepoint_docs)"
   ]
  },
  {
   "cell_type": "code",
   "execution_count": 9,
   "id": "c2966c19-df88-442e-9029-6bd3b8d5b5a4",
   "metadata": {},
   "outputs": [],
   "source": [
    "mongo_loader = MongoDBLoader(\n",
    "  host=\"mongodb://127.0.0.1:27017\",\n",
    "  database=\"product_catalog\",\n",
    "  collection=\"products\",\n",
    "  content_keys=[\"name\", \"description\"] # used to tell what is meaningful content to embed as a vector\n",
    ")"
   ]
  },
  {
   "cell_type": "code",
   "execution_count": 10,
   "id": "6836e5c4-1589-4aca-87b3-d25fdb80c68e",
   "metadata": {},
   "outputs": [],
   "source": [
    "# load docs in sync mode\n",
    "mongo_docs = mongo_loader.load()"
   ]
  },
  {
   "cell_type": "code",
   "execution_count": 11,
   "id": "7cdb08da-8544-4051-8228-38287c80b637",
   "metadata": {},
   "outputs": [
    {
     "data": {
      "text/plain": [
       "3"
      ]
     },
     "execution_count": 11,
     "metadata": {},
     "output_type": "execute_result"
    }
   ],
   "source": [
    "len(mongo_docs)"
   ]
  },
  {
   "cell_type": "code",
   "execution_count": 12,
   "id": "fc431aae-d13b-4ee7-9836-37087485a1cd",
   "metadata": {},
   "outputs": [
    {
     "data": {
      "text/plain": [
       "[Document(page_content='Gadget A useful gadget', metadata={'name': 'Gadget', 'description': 'A useful gadget', 'price': 19.99, 'stock_count': 100, 'id': '664cb39a0f970cbd1799ea72'}),\n",
       " Document(page_content='Widget An essential widget', metadata={'name': 'Widget', 'description': 'An essential widget', 'price': 29.99, 'stock_count': 150, 'id': '664cb39a0f970cbd1799ea73'}),\n",
       " Document(page_content='Doodad A fancy doodad', metadata={'name': 'Doodad', 'description': 'A fancy doodad', 'price': 49.99, 'stock_count': 200, 'id': '664cb39a0f970cbd1799ea74'})]"
      ]
     },
     "execution_count": 12,
     "metadata": {},
     "output_type": "execute_result"
    }
   ],
   "source": [
    "mongo_docs"
   ]
  },
  {
   "cell_type": "markdown",
   "id": "28da9739-f042-428e-8724-01262eeb98e0",
   "metadata": {},
   "source": [
    "## Chunking splitting with langchain util functions!"
   ]
  },
  {
   "cell_type": "code",
   "execution_count": 21,
   "id": "04dd370d-ba3c-46c7-8a93-0b4b71fc0164",
   "metadata": {},
   "outputs": [],
   "source": [
    "from langchain.text_splitter import RecursiveCharacterTextSplitter\n",
    "\n",
    "text_splitter = RecursiveCharacterTextSplitter.from_tiktoken_encoder(\n",
    "    chunk_size=4, chunk_overlap=1 # some very dummy value to force splitting\n",
    ")\n",
    "docs = mongo_loader.load_and_split(text_splitter=text_splitter)"
   ]
  },
  {
   "cell_type": "code",
   "execution_count": 22,
   "id": "dc1e3b78-0d52-4c91-87f4-99815c7af588",
   "metadata": {},
   "outputs": [
    {
     "data": {
      "text/plain": [
       "6"
      ]
     },
     "execution_count": 22,
     "metadata": {},
     "output_type": "execute_result"
    }
   ],
   "source": [
    "len(docs)"
   ]
  },
  {
   "cell_type": "markdown",
   "id": "85920386-4763-434f-b6a2-5f6939401fbd",
   "metadata": {},
   "source": [
    "## Using any embeddings from HuggingFace"
   ]
  },
  {
   "cell_type": "code",
   "execution_count": 23,
   "id": "384332a1-f7b7-48f0-a193-de11e6b86c62",
   "metadata": {},
   "outputs": [
    {
     "name": "stderr",
     "output_type": "stream",
     "text": [
      "/Users/jedr/connectors/lib/python3.10/site-packages/huggingface_hub/file_download.py:1132: FutureWarning: `resume_download` is deprecated and will be removed in version 1.0.0. Downloads always resume when possible. If you want to force a new download, use `force_download=True`.\n",
      "  warnings.warn(\n"
     ]
    }
   ],
   "source": [
    "from langchain_community.embeddings import HuggingFaceEmbeddings\n",
    "\n",
    "embeddings = HuggingFaceEmbeddings()"
   ]
  },
  {
   "cell_type": "markdown",
   "id": "518f9af5-909d-4016-97f1-7432ddc3134c",
   "metadata": {},
   "source": [
    "## Using langchain ES utils "
   ]
  },
  {
   "cell_type": "code",
   "execution_count": 29,
   "id": "89852a86-1367-4c63-a3f9-c9f37c00220a",
   "metadata": {},
   "outputs": [],
   "source": [
    "es_url = \"https://ee846f61f7db43bd9b65a78c5c250a2d.es.us-east-1.aws.elastic.cloud:443\"\n",
    "es_api_key = \"Zk1VT2pJOEJiLUhhaV9WOVFvN3M6dnRwX1BRMlVTQ0d3QkszTEhBZGdmQQ==\"\n",
    "vector_field = \"vector\"\n",
    "index_name = \"connectors-notebook-test\""
   ]
  },
  {
   "cell_type": "code",
   "execution_count": 30,
   "id": "07914f26-31ee-4502-af35-0c9262a00972",
   "metadata": {},
   "outputs": [],
   "source": [
    "from langchain_elasticsearch import ElasticsearchStore\n",
    "\n",
    "db = ElasticsearchStore.from_documents(\n",
    "    docs,\n",
    "    embeddings,\n",
    "    vector_query_field=vector_field,\n",
    "    es_url=es_url,\n",
    "    index_name=index_name,\n",
    "    es_api_key=es_api_key\n",
    ")"
   ]
  },
  {
   "cell_type": "markdown",
   "id": "8e474ebb-fab0-445c-bfed-f40a80d67ace",
   "metadata": {},
   "source": [
    "## Semantic search"
   ]
  },
  {
   "cell_type": "code",
   "execution_count": 34,
   "id": "e870a25f-9f43-4737-8d36-12d739823c4c",
   "metadata": {},
   "outputs": [],
   "source": [
    "from langchain_elasticsearch import ElasticsearchRetriever\n",
    "\n",
    "def vector_query(search_query, k=1):\n",
    "    return {\n",
    "        \"knn\": {\n",
    "            \"field\": vector_field,\n",
    "            \"query_vector\": embeddings.embed_query(search_query),\n",
    "            \"k\": k,\n",
    "            \"num_candidates\": 20,\n",
    "        }\n",
    "    }\n",
    "\n",
    "\n",
    "retriever = ElasticsearchRetriever.from_es_params(\n",
    "    index_name=index_name,\n",
    "    body_func=vector_query,\n",
    "    content_field=\"text\",\n",
    "    url=es_url,\n",
    "    api_key=es_api_key\n",
    ")"
   ]
  },
  {
   "cell_type": "code",
   "execution_count": 46,
   "id": "fe28a0ac-84aa-4233-969e-296ee96e7a2c",
   "metadata": {},
   "outputs": [
    {
     "name": "stdout",
     "output_type": "stream",
     "text": [
      "Content: Gadget A\n",
      "ES Index: connectors-notebook-test\n"
     ]
    }
   ],
   "source": [
    "docs = retriever.invoke(\"gadget\")\n",
    "\n",
    "# content partial due to chunking\n",
    "for d in docs:\n",
    "    print(f'Content: {d.page_content}')\n",
    "    print(f'ES Index: {d.metadata.get(\"_index\", \"\")}')"
   ]
  },
  {
   "cell_type": "code",
   "execution_count": null,
   "id": "26968dfe-1d29-443e-8dce-31837528e52e",
   "metadata": {},
   "outputs": [],
   "source": []
  }
 ],
 "metadata": {
  "kernelspec": {
   "display_name": "Python 3 (ipykernel)",
   "language": "python",
   "name": "python3"
  },
  "language_info": {
   "codemirror_mode": {
    "name": "ipython",
    "version": 3
   },
   "file_extension": ".py",
   "mimetype": "text/x-python",
   "name": "python",
   "nbconvert_exporter": "python",
   "pygments_lexer": "ipython3",
   "version": "3.10.14"
  }
 },
 "nbformat": 4,
 "nbformat_minor": 5
}
